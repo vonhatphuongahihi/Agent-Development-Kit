{
  "cells": [
    {
      "cell_type": "markdown",
      "metadata": {
        "id": "qUllUeCjo8EF"
      },
      "source": [
        "# Step 0: Cài đặt môi trường & Cấu hình API Keys"
      ]
    },
    {
      "cell_type": "code",
      "execution_count": 1,
      "metadata": {
        "colab": {
          "base_uri": "https://localhost:8080/"
        },
        "id": "QApfRDaRotJm",
        "outputId": "fcecc391-2a86-4a4e-f1e5-32cdc640c0c5"
      },
      "outputs": [
        {
          "name": "stdout",
          "output_type": "stream",
          "text": [
            "\u001b[?25l   \u001b[90m━━━━━━━━━━━━━━━━━━━━━━━━━━━━━━━━━━━━━━━━\u001b[0m \u001b[32m0.0/1.3 MB\u001b[0m \u001b[31m?\u001b[0m eta \u001b[36m-:--:--\u001b[0m\r\u001b[2K   \u001b[91m━━━━━━━━━━━━━━━━━━━━━━━━━━━━━━━━━━━━━━━\u001b[0m\u001b[91m╸\u001b[0m \u001b[32m1.3/1.3 MB\u001b[0m \u001b[31m49.1 MB/s\u001b[0m eta \u001b[36m0:00:01\u001b[0m\r\u001b[2K   \u001b[90m━━━━━━━━━━━━━━━━━━━━━━━━━━━━━━━━━━━━━━━━\u001b[0m \u001b[32m1.3/1.3 MB\u001b[0m \u001b[31m23.7 MB/s\u001b[0m eta \u001b[36m0:00:00\u001b[0m\n",
            "\u001b[?25h\u001b[?25l   \u001b[90m━━━━━━━━━━━━━━━━━━━━━━━━━━━━━━━━━━━━━━━━\u001b[0m \u001b[32m0.0/240.0 kB\u001b[0m \u001b[31m?\u001b[0m eta \u001b[36m-:--:--\u001b[0m\r\u001b[2K   \u001b[90m━━━━━━━━━━━━━━━━━━━━━━━━━━━━━━━━━━━━━━━━\u001b[0m \u001b[32m240.0/240.0 kB\u001b[0m \u001b[31m14.0 MB/s\u001b[0m eta \u001b[36m0:00:00\u001b[0m\n",
            "\u001b[?25h\u001b[?25l   \u001b[90m━━━━━━━━━━━━━━━━━━━━━━━━━━━━━━━━━━━━━━━━\u001b[0m \u001b[32m0.0/218.1 kB\u001b[0m \u001b[31m?\u001b[0m eta \u001b[36m-:--:--\u001b[0m\r\u001b[2K   \u001b[90m━━━━━━━━━━━━━━━━━━━━━━━━━━━━━━━━━━━━━━━━\u001b[0m \u001b[32m218.1/218.1 kB\u001b[0m \u001b[31m12.4 MB/s\u001b[0m eta \u001b[36m0:00:00\u001b[0m\n",
            "\u001b[2K   \u001b[90m━━━━━━━━━━━━━━━━━━━━━━━━━━━━━━━━━━━━━━━━\u001b[0m \u001b[32m335.7/335.7 kB\u001b[0m \u001b[31m18.0 MB/s\u001b[0m eta \u001b[36m0:00:00\u001b[0m\n",
            "\u001b[2K   \u001b[90m━━━━━━━━━━━━━━━━━━━━━━━━━━━━━━━━━━━━━━━━\u001b[0m \u001b[32m130.2/130.2 kB\u001b[0m \u001b[31m8.2 MB/s\u001b[0m eta \u001b[36m0:00:00\u001b[0m\n",
            "\u001b[2K   \u001b[90m━━━━━━━━━━━━━━━━━━━━━━━━━━━━━━━━━━━━━━━━\u001b[0m \u001b[32m65.8/65.8 kB\u001b[0m \u001b[31m4.3 MB/s\u001b[0m eta \u001b[36m0:00:00\u001b[0m\n",
            "\u001b[2K   \u001b[90m━━━━━━━━━━━━━━━━━━━━━━━━━━━━━━━━━━━━━━━━\u001b[0m \u001b[32m118.5/118.5 kB\u001b[0m \u001b[31m8.3 MB/s\u001b[0m eta \u001b[36m0:00:00\u001b[0m\n",
            "\u001b[2K   \u001b[90m━━━━━━━━━━━━━━━━━━━━━━━━━━━━━━━━━━━━━━━━\u001b[0m \u001b[32m196.2/196.2 kB\u001b[0m \u001b[31m11.3 MB/s\u001b[0m eta \u001b[36m0:00:00\u001b[0m\n",
            "\u001b[2K   \u001b[90m━━━━━━━━━━━━━━━━━━━━━━━━━━━━━━━━━━━━━━━━\u001b[0m \u001b[32m64.8/64.8 kB\u001b[0m \u001b[31m4.0 MB/s\u001b[0m eta \u001b[36m0:00:00\u001b[0m\n",
            "\u001b[2K   \u001b[90m━━━━━━━━━━━━━━━━━━━━━━━━━━━━━━━━━━━━━━━━\u001b[0m \u001b[32m229.5/229.5 kB\u001b[0m \u001b[31m13.5 MB/s\u001b[0m eta \u001b[36m0:00:00\u001b[0m\n",
            "\u001b[2K   \u001b[90m━━━━━━━━━━━━━━━━━━━━━━━━━━━━━━━━━━━━━━━━\u001b[0m \u001b[32m103.8/103.8 kB\u001b[0m \u001b[31m6.3 MB/s\u001b[0m eta \u001b[36m0:00:00\u001b[0m\n",
            "\u001b[2K   \u001b[90m━━━━━━━━━━━━━━━━━━━━━━━━━━━━━━━━━━━━━━━━\u001b[0m \u001b[32m45.2/45.2 kB\u001b[0m \u001b[31m2.5 MB/s\u001b[0m eta \u001b[36m0:00:00\u001b[0m\n",
            "\u001b[?25h\u001b[31mERROR: pip's dependency resolver does not currently take into account all the packages that are installed. This behaviour is the source of the following dependency conflicts.\n",
            "google-colab 1.0.0 requires requests==2.32.3, but you have requests 2.32.4 which is incompatible.\u001b[0m\u001b[31m\n",
            "\u001b[2K   \u001b[90m━━━━━━━━━━━━━━━━━━━━━━━━━━━━━━━━━━━━━━━━\u001b[0m \u001b[32m8.4/8.4 MB\u001b[0m \u001b[31m75.6 MB/s\u001b[0m eta \u001b[36m0:00:00\u001b[0m\n",
            "\u001b[?25h"
          ]
        }
      ],
      "source": [
        "!pip install google-adk -q\n",
        "!pip install litellm -q"
      ]
    },
    {
      "cell_type": "code",
      "execution_count": 2,
      "metadata": {
        "id": "68ibQga-ovi8"
      },
      "outputs": [],
      "source": [
        "import os\n",
        "import asyncio\n",
        "from google.adk.agents import Agent\n",
        "from google.adk.models.lite_llm import LiteLlm\n",
        "from google.adk.sessions import InMemorySessionService\n",
        "from google.adk.runners import Runner\n",
        "from google.genai import types\n",
        "\n",
        "import warnings\n",
        "warnings.filterwarnings(\"ignore\")\n",
        "\n",
        "import logging\n",
        "logging.basicConfig(level=logging.ERROR)"
      ]
    },
    {
      "cell_type": "code",
      "execution_count": 3,
      "metadata": {
        "id": "G63zaWh0qDlu"
      },
      "outputs": [],
      "source": [
        "os.environ[\"GOOGLE_API_KEY\"] = ''\n",
        "\n",
        "os.environ['OPENAI_API_KEY'] = ''\n",
        "\n",
        "os.environ['ANTHROPIC_API_KEY'] = ''\n",
        "\n",
        "os.environ[\"GOOGLE_GENAI_USE_VERTEXAI\"] = \"False\""
      ]
    },
    {
      "cell_type": "code",
      "execution_count": 4,
      "metadata": {
        "id": "KDlJID0erPPv"
      },
      "outputs": [],
      "source": [
        "MODEL_GEMINI_2_0_FLASH = \"gemini-2.0-flash\"\n",
        "\n",
        "MODEL_GPT_4O = \"openai/gpt-4.1\"\n",
        "\n",
        "MODEL_CLAUDE_SONNET = \"anthropic/claude-sonnet-4-20250514\""
      ]
    },
    {
      "cell_type": "markdown",
      "metadata": {
        "id": "46Rp7n2GuvpC"
      },
      "source": [
        "# Step 1: Tra cứu thời tiết cơ bản"
      ]
    },
    {
      "cell_type": "markdown",
      "metadata": {
        "id": "0M_oSVb69zI0"
      },
      "source": [
        "## Định nghĩa hàm get_weather"
      ]
    },
    {
      "cell_type": "code",
      "execution_count": 5,
      "metadata": {
        "colab": {
          "base_uri": "https://localhost:8080/"
        },
        "id": "Z4h6ZE0Iux-D",
        "outputId": "cb98b607-f647-4b21-a1fd-db19f149431e"
      },
      "outputs": [
        {
          "name": "stdout",
          "output_type": "stream",
          "text": [
            "--- Tool: get_weather được gọi cho thành phố: New York ---\n",
            "{'status': 'success', 'report': 'Thời tiết ở New York nắng, nhiệt độ 25°C.'}\n",
            "--- Tool: get_weather được gọi cho thành phố: Paris ---\n",
            "{'status': 'error', 'error_message': \"Xin lỗi, tôi không có thông tin thời tiết cho 'Paris'.\"}\n"
          ]
        }
      ],
      "source": [
        "def get_weather(city: str) -> dict:\n",
        "    \"\"\"Lấy báo cáo thời tiết hiện tại cho một thành phố cụ thể.\n",
        "\n",
        "    Tham số:\n",
        "        city (str): Tên thành phố (ví dụ: \"New York\", \"London\", \"Tokyo\").\n",
        "\n",
        "    Trả về:\n",
        "        dict: Một từ điển chứa thông tin thời tiết.\n",
        "              Bao gồm khóa 'status' ('success' hoặc 'error').\n",
        "              Nếu 'success', có thêm khóa 'report' với chi tiết thời tiết.\n",
        "              Nếu 'error', có khóa 'error_message' chứa thông báo lỗi.\n",
        "    \"\"\"\n",
        "    print(f\"--- Tool: get_weather được gọi cho thành phố: {city} ---\")  # Ghi log khi tool được gọi\n",
        "    city_normalized = city.lower().replace(\" \", \"\")  # Chuẩn hóa tên thành phố đơn giản\n",
        "\n",
        "    # Dữ liệu thời tiết giả lập\n",
        "    mock_weather_db = {\n",
        "        \"newyork\": {\"status\": \"success\", \"report\": \"Thời tiết ở New York nắng, nhiệt độ 25°C.\"},\n",
        "        \"london\": {\"status\": \"success\", \"report\": \"Ở London trời nhiều mây, nhiệt độ 15°C.\"},\n",
        "        \"tokyo\": {\"status\": \"success\", \"report\": \"Tokyo đang mưa nhẹ, nhiệt độ 18°C.\"},\n",
        "    }\n",
        "\n",
        "    if city_normalized in mock_weather_db:\n",
        "        return mock_weather_db[city_normalized]\n",
        "    else:\n",
        "        return {\"status\": \"error\", \"error_message\": f\"Xin lỗi, tôi không có thông tin thời tiết cho '{city}'.\"}\n",
        "\n",
        "# Ví dụ sử dụng tool (kiểm tra)\n",
        "print(get_weather(\"New York\"))\n",
        "print(get_weather(\"Paris\"))"
      ]
    },
    {
      "cell_type": "markdown",
      "metadata": {
        "id": "0QD0uXdr924o"
      },
      "source": [
        "## Định nghĩa Agent"
      ]
    },
    {
      "cell_type": "code",
      "execution_count": 6,
      "metadata": {
        "colab": {
          "base_uri": "https://localhost:8080/"
        },
        "id": "3DIg9JA-uyWn",
        "outputId": "0f98b2e7-64c0-45b1-f1ac-bbe637735d2a"
      },
      "outputs": [
        {
          "name": "stdout",
          "output_type": "stream",
          "text": [
            "Agent 'weather_agent_v1' đã được tạo với model 'gemini-2.0-flash'.\n"
          ]
        }
      ],
      "source": [
        "AGENT_MODEL = MODEL_GEMINI_2_0_FLASH\n",
        "\n",
        "weather_agent = Agent(\n",
        "    name=\"weather_agent_v1\",\n",
        "    model=AGENT_MODEL,\n",
        "    description=\"Cung cấp thông tin thời tiết cho các thành phố cụ thể.\",\n",
        "    instruction=(\n",
        "        \"Bạn là một trợ lý thời tiết hữu ích. \"\n",
        "        \"Khi người dùng hỏi về thời tiết ở một thành phố cụ thể, \"\n",
        "        \"hãy sử dụng công cụ 'get_weather' để tìm thông tin. \"\n",
        "        \"Nếu công cụ trả về lỗi, hãy thông báo cho người dùng một cách lịch sự. \"\n",
        "        \"Nếu công cụ hoạt động thành công, hãy trình bày báo cáo thời tiết một cách rõ ràng.\"\n",
        "    ),\n",
        "    tools=[get_weather],\n",
        ")\n",
        "\n",
        "print(f\"Agent '{weather_agent.name}' đã được tạo với model '{AGENT_MODEL}'.\")\n"
      ]
    },
    {
      "cell_type": "markdown",
      "metadata": {
        "id": "XAHYj0k698CO"
      },
      "source": [
        "## Thiết lập Runner và Session Service"
      ]
    },
    {
      "cell_type": "code",
      "execution_count": 7,
      "metadata": {
        "colab": {
          "base_uri": "https://localhost:8080/"
        },
        "id": "Ejl9k-c_9x5p",
        "outputId": "97c9bb41-f7d7-430a-8941-ec418ed90b2c"
      },
      "outputs": [
        {
          "name": "stdout",
          "output_type": "stream",
          "text": [
            "Đã tạo session: App='weather_tutorial_app', User='user_1', Session='session_001'\n",
            "Đã tạo Runner cho agent 'weather_agent_v1'.\n"
          ]
        }
      ],
      "source": [
        "session_service = InMemorySessionService()\n",
        "\n",
        "APP_NAME = \"weather_tutorial_app\"\n",
        "USER_ID = \"user_1\"\n",
        "SESSION_ID = \"session_001\"\n",
        "\n",
        "session = await session_service.create_session(\n",
        "    app_name=APP_NAME,\n",
        "    user_id=USER_ID,\n",
        "    session_id=SESSION_ID\n",
        ")\n",
        "print(f\"Đã tạo session: App='{APP_NAME}', User='{USER_ID}', Session='{SESSION_ID}'\")\n",
        "\n",
        "runner = Runner(\n",
        "    agent=weather_agent,\n",
        "    app_name=APP_NAME,\n",
        "    session_service=session_service\n",
        ")\n",
        "print(f\"Đã tạo Runner cho agent '{runner.agent.name}'.\")\n"
      ]
    },
    {
      "cell_type": "markdown",
      "metadata": {
        "id": "21Kb8of-RH1k"
      },
      "source": [
        "## Tương tác với Agent\n",
        "\n"
      ]
    },
    {
      "cell_type": "code",
      "execution_count": 8,
      "metadata": {
        "id": "cQraC4XWNhVs"
      },
      "outputs": [],
      "source": [
        "from google.genai import types\n",
        "\n",
        "async def call_agent_async(query: str, runner, user_id, session_id):\n",
        "    \"\"\"Gửi câu hỏi đến agent và in ra phản hồi cuối cùng.\"\"\"\n",
        "    print(f\"\\n>>> Câu hỏi từ người dùng: {query}\")\n",
        "\n",
        "    content = types.Content(role='user', parts=[types.Part(text=query)])\n",
        "\n",
        "    final_response_text = \"Agent không tạo ra phản hồi cuối cùng.\"\n",
        "\n",
        "    async for event in runner.run_async(user_id=user_id, session_id=session_id, new_message=content):\n",
        "        print(f\"  [Event] Tác giả: {event.author}, Loại: {type(event).__name__}, Cuối cùng: {event.is_final_response()}, Nội dung: {event.content}\")\n",
        "\n",
        "        if event.is_final_response():\n",
        "            if event.content and event.content.parts:\n",
        "                final_response_text = event.content.parts[0].text\n",
        "            elif event.actions and event.actions.escalate:\n",
        "                final_response_text = f\"Agent đã gặp lỗi: {event.error_message or 'Không có thông báo cụ thể.'}\"\n",
        "            break\n",
        "\n",
        "    print(f\"<<< Phản hồi từ Agent: {final_response_text}\")"
      ]
    },
    {
      "cell_type": "markdown",
      "metadata": {
        "id": "2neGz_CDSo-a"
      },
      "source": [
        "## Chạy cuộc trò chuyện"
      ]
    },
    {
      "cell_type": "code",
      "execution_count": 9,
      "metadata": {
        "colab": {
          "base_uri": "https://localhost:8080/"
        },
        "id": "C1DXe_K6Sqgm",
        "outputId": "d02bfb06-abcb-41d5-f77a-91518712a0e4"
      },
      "outputs": [
        {
          "name": "stdout",
          "output_type": "stream",
          "text": [
            "\n",
            ">>> Câu hỏi từ người dùng: Thời tiết ở London như thế nào?\n"
          ]
        },
        {
          "name": "stderr",
          "output_type": "stream",
          "text": [
            "WARNING:google_genai.types:Warning: there are non-text parts in the response: ['function_call'], returning concatenated text result from text parts. Check the full candidates.content.parts accessor to get the full model response.\n"
          ]
        },
        {
          "name": "stdout",
          "output_type": "stream",
          "text": [
            "  [Event] Tác giả: weather_agent_v1, Loại: Event, Cuối cùng: False, Nội dung: parts=[Part(video_metadata=None, thought=None, inline_data=None, file_data=None, thought_signature=None, code_execution_result=None, executable_code=None, function_call=FunctionCall(id='adk-2bdd195d-b103-48ff-a986-dec4ee21ad7f', args={'city': 'London'}, name='get_weather'), function_response=None, text=None)] role='model'\n",
            "--- Tool: get_weather được gọi cho thành phố: London ---\n",
            "  [Event] Tác giả: weather_agent_v1, Loại: Event, Cuối cùng: False, Nội dung: parts=[Part(video_metadata=None, thought=None, inline_data=None, file_data=None, thought_signature=None, code_execution_result=None, executable_code=None, function_call=None, function_response=FunctionResponse(will_continue=None, scheduling=None, id='adk-2bdd195d-b103-48ff-a986-dec4ee21ad7f', name='get_weather', response={'status': 'success', 'report': 'Ở London trời nhiều mây, nhiệt độ 15°C.'}), text=None)] role='user'\n",
            "  [Event] Tác giả: weather_agent_v1, Loại: Event, Cuối cùng: True, Nội dung: parts=[Part(video_metadata=None, thought=None, inline_data=None, file_data=None, thought_signature=None, code_execution_result=None, executable_code=None, function_call=None, function_response=None, text='Thời tiết ở London nhiều mây và nhiệt độ 15°C.')] role='model'\n",
            "<<< Phản hồi từ Agent: Thời tiết ở London nhiều mây và nhiệt độ 15°C.\n",
            "\n",
            ">>> Câu hỏi từ người dùng: Còn ở Paris thì sao?\n"
          ]
        },
        {
          "name": "stderr",
          "output_type": "stream",
          "text": [
            "WARNING:google_genai.types:Warning: there are non-text parts in the response: ['function_call'], returning concatenated text result from text parts. Check the full candidates.content.parts accessor to get the full model response.\n"
          ]
        },
        {
          "name": "stdout",
          "output_type": "stream",
          "text": [
            "  [Event] Tác giả: weather_agent_v1, Loại: Event, Cuối cùng: False, Nội dung: parts=[Part(video_metadata=None, thought=None, inline_data=None, file_data=None, thought_signature=None, code_execution_result=None, executable_code=None, function_call=FunctionCall(id='adk-4690394f-bf56-4111-bfcc-0750ff16e9be', args={'city': 'Paris'}, name='get_weather'), function_response=None, text=None)] role='model'\n",
            "--- Tool: get_weather được gọi cho thành phố: Paris ---\n",
            "  [Event] Tác giả: weather_agent_v1, Loại: Event, Cuối cùng: False, Nội dung: parts=[Part(video_metadata=None, thought=None, inline_data=None, file_data=None, thought_signature=None, code_execution_result=None, executable_code=None, function_call=None, function_response=FunctionResponse(will_continue=None, scheduling=None, id='adk-4690394f-bf56-4111-bfcc-0750ff16e9be', name='get_weather', response={'status': 'error', 'error_message': \"Xin lỗi, tôi không có thông tin thời tiết cho 'Paris'.\"}), text=None)] role='user'\n",
            "  [Event] Tác giả: weather_agent_v1, Loại: Event, Cuối cùng: True, Nội dung: parts=[Part(video_metadata=None, thought=None, inline_data=None, file_data=None, thought_signature=None, code_execution_result=None, executable_code=None, function_call=None, function_response=None, text='Xin lỗi, tôi không có thông tin thời tiết cho Paris.')] role='model'\n",
            "<<< Phản hồi từ Agent: Xin lỗi, tôi không có thông tin thời tiết cho Paris.\n",
            "\n",
            ">>> Câu hỏi từ người dùng: Cho tôi biết thời tiết ở New York\n"
          ]
        },
        {
          "name": "stderr",
          "output_type": "stream",
          "text": [
            "WARNING:google_genai.types:Warning: there are non-text parts in the response: ['function_call'], returning concatenated text result from text parts. Check the full candidates.content.parts accessor to get the full model response.\n"
          ]
        },
        {
          "name": "stdout",
          "output_type": "stream",
          "text": [
            "  [Event] Tác giả: weather_agent_v1, Loại: Event, Cuối cùng: False, Nội dung: parts=[Part(video_metadata=None, thought=None, inline_data=None, file_data=None, thought_signature=None, code_execution_result=None, executable_code=None, function_call=FunctionCall(id='adk-b559b1f2-fd31-4fd6-a96a-e8337af6220e', args={'city': 'New York'}, name='get_weather'), function_response=None, text=None)] role='model'\n",
            "--- Tool: get_weather được gọi cho thành phố: New York ---\n",
            "  [Event] Tác giả: weather_agent_v1, Loại: Event, Cuối cùng: False, Nội dung: parts=[Part(video_metadata=None, thought=None, inline_data=None, file_data=None, thought_signature=None, code_execution_result=None, executable_code=None, function_call=None, function_response=FunctionResponse(will_continue=None, scheduling=None, id='adk-b559b1f2-fd31-4fd6-a96a-e8337af6220e', name='get_weather', response={'status': 'success', 'report': 'Thời tiết ở New York nắng, nhiệt độ 25°C.'}), text=None)] role='user'\n",
            "  [Event] Tác giả: weather_agent_v1, Loại: Event, Cuối cùng: True, Nội dung: parts=[Part(video_metadata=None, thought=None, inline_data=None, file_data=None, thought_signature=None, code_execution_result=None, executable_code=None, function_call=None, function_response=None, text='Thời tiết ở New York trời nắng và nhiệt độ 25°C.\\n')] role='model'\n",
            "<<< Phản hồi từ Agent: Thời tiết ở New York trời nắng và nhiệt độ 25°C.\n",
            "\n"
          ]
        }
      ],
      "source": [
        "async def run_conversation():\n",
        "    await call_agent_async(\"Thời tiết ở London như thế nào?\",\n",
        "                           runner=runner,\n",
        "                           user_id=USER_ID,\n",
        "                           session_id=SESSION_ID)\n",
        "\n",
        "    await call_agent_async(\"Còn ở Paris thì sao?\",\n",
        "                           runner=runner,\n",
        "                           user_id=USER_ID,\n",
        "                           session_id=SESSION_ID)  # Kỳ vọng nhận thông báo lỗi từ tool\n",
        "\n",
        "    await call_agent_async(\"Cho tôi biết thời tiết ở New York\",\n",
        "                           runner=runner,\n",
        "                           user_id=USER_ID,\n",
        "                           session_id=SESSION_ID)\n",
        "\n",
        "await run_conversation()"
      ]
    },
    {
      "cell_type": "markdown",
      "metadata": {
        "id": "hZ215IkaZVyD"
      },
      "source": [
        "# Step 2: Sử dụng nhiều mô hình với LiteLLM"
      ]
    },
    {
      "cell_type": "markdown",
      "metadata": {
        "id": "vmJrhZ3Qjr2p"
      },
      "source": [
        "## Tạo và kiểm tra agent sử dụng GPT-4o của OpenAI"
      ]
    },
    {
      "cell_type": "code",
      "execution_count": 10,
      "metadata": {
        "colab": {
          "base_uri": "https://localhost:8080/"
        },
        "id": "rplD2qixSr2K",
        "outputId": "bcc92768-456f-457e-b34d-2f04b1ec4c69"
      },
      "outputs": [
        {
          "name": "stdout",
          "output_type": "stream",
          "text": [
            "Đã tạo agent 'weather_agent_gpt' với mô hình 'openai/gpt-4.1'.\n",
            "Đã tạo session: App='weather_tutorial_app_gpt', User='user_1_gpt', Session='session_001_gpt'\n",
            "Đã tạo runner cho agent 'weather_agent_gpt'.\n",
            "\n",
            "--- Đang kiểm tra agent GPT ---\n",
            "\n",
            ">>> Câu hỏi từ người dùng: Thời tiết ở Tokyo như thế nào?\n",
            "  [Event] Tác giả: weather_agent_gpt, Loại: Event, Cuối cùng: False, Nội dung: parts=[Part(video_metadata=None, thought=None, inline_data=None, file_data=None, thought_signature=None, code_execution_result=None, executable_code=None, function_call=FunctionCall(id='call_R2nQi9m4WcQGaq7MG0r76QcL', args={'city': 'Tokyo'}, name='get_weather'), function_response=None, text=None)] role='model'\n",
            "--- Tool: get_weather được gọi cho thành phố: Tokyo ---\n",
            "  [Event] Tác giả: weather_agent_gpt, Loại: Event, Cuối cùng: False, Nội dung: parts=[Part(video_metadata=None, thought=None, inline_data=None, file_data=None, thought_signature=None, code_execution_result=None, executable_code=None, function_call=None, function_response=FunctionResponse(will_continue=None, scheduling=None, id='call_R2nQi9m4WcQGaq7MG0r76QcL', name='get_weather', response={'status': 'success', 'report': 'Tokyo đang mưa nhẹ, nhiệt độ 18°C.'}), text=None)] role='user'\n",
            "  [Event] Tác giả: weather_agent_gpt, Loại: Event, Cuối cùng: True, Nội dung: parts=[Part(video_metadata=None, thought=None, inline_data=None, file_data=None, thought_signature=None, code_execution_result=None, executable_code=None, function_call=None, function_response=None, text='Thời tiết ở Tokyo hiện tại đang mưa nhẹ, nhiệt độ là 18°C. Nếu bạn cần thêm thông tin chi tiết về thời tiết tại Tokyo, hãy cho mình biết nhé!')] role='model'\n",
            "<<< Phản hồi từ Agent: Thời tiết ở Tokyo hiện tại đang mưa nhẹ, nhiệt độ là 18°C. Nếu bạn cần thêm thông tin chi tiết về thời tiết tại Tokyo, hãy cho mình biết nhé!\n"
          ]
        }
      ],
      "source": [
        "# --- Agent dùng GPT-4o ---\n",
        "weather_agent_gpt = None  # Khởi tạo biến agent\n",
        "runner_gpt = None         # Khởi tạo biến runner\n",
        "\n",
        "try:\n",
        "    weather_agent_gpt = Agent(\n",
        "        name=\"weather_agent_gpt\",\n",
        "        # Điểm khác biệt: Dùng model qua wrapper LiteLLM\n",
        "        model=LiteLlm(model=MODEL_GPT_4O),\n",
        "        description=\"Cung cấp thông tin thời tiết (sử dụng GPT-4o).\",\n",
        "        instruction=\"Bạn là một trợ lý thời tiết thân thiện, được hỗ trợ bởi GPT-4o. \"\n",
        "                    \"Hãy dùng công cụ 'get_weather' để xử lý các yêu cầu liên quan đến thời tiết theo thành phố. \"\n",
        "                    \"Hiển thị kết quả rõ ràng nếu thành công hoặc trả lời lịch sự nếu có lỗi từ công cụ.\",\n",
        "        tools=[get_weather],  # Dùng lại công cụ đã định nghĩa\n",
        "    )\n",
        "    print(f\"Đã tạo agent '{weather_agent_gpt.name}' với mô hình '{MODEL_GPT_4O}'.\")\n",
        "\n",
        "    # InMemorySessionService là dịch vụ lưu trữ đơn giản, không bền vững – phù hợp để demo.\n",
        "    session_service_gpt = InMemorySessionService()  # Tạo riêng service cho agent này\n",
        "\n",
        "    # Xác định thông tin định danh cho ngữ cảnh tương tác\n",
        "    APP_NAME_GPT = \"weather_tutorial_app_gpt\"\n",
        "    USER_ID_GPT = \"user_1_gpt\"\n",
        "    SESSION_ID_GPT = \"session_001_gpt\"\n",
        "\n",
        "    # Tạo session cụ thể cho cuộc trò chuyện này\n",
        "    session_gpt = await session_service_gpt.create_session(\n",
        "        app_name=APP_NAME_GPT,\n",
        "        user_id=USER_ID_GPT,\n",
        "        session_id=SESSION_ID_GPT\n",
        "    )\n",
        "    print(f\"Đã tạo session: App='{APP_NAME_GPT}', User='{USER_ID_GPT}', Session='{SESSION_ID_GPT}'\")\n",
        "\n",
        "    # Tạo runner cho agent này\n",
        "    runner_gpt = Runner(\n",
        "        agent=weather_agent_gpt,\n",
        "        app_name=APP_NAME_GPT,\n",
        "        session_service=session_service_gpt\n",
        "    )\n",
        "    print(f\"Đã tạo runner cho agent '{runner_gpt.agent.name}'.\")\n",
        "\n",
        "    # --- Kiểm thử agent GPT ---\n",
        "    print(\"\\n--- Đang kiểm tra agent GPT ---\")\n",
        "    await call_agent_async(query=\"Thời tiết ở Tokyo như thế nào?\",\n",
        "                           runner=runner_gpt,\n",
        "                           user_id=USER_ID_GPT,\n",
        "                           session_id=SESSION_ID_GPT)\n",
        "\n",
        "except Exception as e:\n",
        "    print(f\"❌ Không thể tạo hoặc chạy agent GPT '{MODEL_GPT_4O}'. Kiểm tra lại API Key và tên model. Lỗi: {e}\")"
      ]
    },
    {
      "cell_type": "markdown",
      "metadata": {
        "id": "5a1pMsMwm-Zn"
      },
      "source": [
        "## Tạo và kiểm tra agent sử dụng mô hình Claude Sonnet của Anthropicss"
      ]
    },
    {
      "cell_type": "code",
      "execution_count": 11,
      "metadata": {
        "colab": {
          "base_uri": "https://localhost:8080/"
        },
        "id": "1jFZxUuHnEXc",
        "outputId": "13991711-049f-4277-e65d-b6b4a1cd6f53"
      },
      "outputs": [
        {
          "name": "stdout",
          "output_type": "stream",
          "text": [
            "Đã tạo agent 'weather_agent_claude' với model 'anthropic/claude-sonnet-4-20250514'.\n",
            "Đã tạo session: App='weather_tutorial_app_claude', User='user_1_claude', Session='session_001_claude'\n",
            "Đã tạo runner cho agent 'weather_agent_claude'.\n",
            "\n",
            "--- Đang kiểm tra agent Claude ---\n",
            "\n",
            ">>> Câu hỏi từ người dùng: Weather in London please.\n",
            "\n",
            "\u001b[1;31mGive Feedback / Get Help: https://github.com/BerriAI/litellm/issues/new\u001b[0m\n",
            "LiteLLM.Info: If you need to debug this error, use `litellm._turn_on_debug()'.\n",
            "\n",
            "❌ Không thể tạo hoặc chạy Claude agent 'anthropic/claude-sonnet-4-20250514'. Kiểm tra lại API Key và tên model. Lỗi: litellm.BadRequestError: AnthropicException - {\"type\":\"error\",\"error\":{\"type\":\"invalid_request_error\",\"message\":\"Your credit balance is too low to access the Anthropic API. Please go to Plans & Billing to upgrade or purchase credits.\"}}\n"
          ]
        }
      ],
      "source": [
        "# --- Agent sử dụng Claude Sonnet ---\n",
        "weather_agent_claude = None  # Khởi tạo giá trị None\n",
        "runner_claude = None         # Khởi tạo runner\n",
        "\n",
        "try:\n",
        "    weather_agent_claude = Agent(\n",
        "        name=\"weather_agent_claude\",\n",
        "        # Điểm khác biệt: sử dụng LiteLLM để wrap model Claude\n",
        "        model=LiteLlm(model=MODEL_CLAUDE_SONNET),\n",
        "        description=\"Cung cấp thông tin thời tiết (sử dụng Claude Sonnet).\",\n",
        "        instruction=\"Bạn là một trợ lý thời tiết thân thiện, được hỗ trợ bởi Claude Sonnet. \"\n",
        "                    \"Sử dụng công cụ 'get_weather' để xử lý yêu cầu thời tiết theo thành phố. \"\n",
        "                    \"Phân tích output dạng từ điển từ tool (gồm 'status', 'report' hoặc 'error_message'). \"\n",
        "                    \"Trình bày kết quả nếu thành công, hoặc báo lỗi một cách lịch sự nếu có.\",\n",
        "        tools=[get_weather],  # Dùng lại tool đã định nghĩa\n",
        "    )\n",
        "    print(f\"Đã tạo agent '{weather_agent_claude.name}' với model '{MODEL_CLAUDE_SONNET}'.\")\n",
        "\n",
        "    # InMemorySessionService là dạng lưu trữ đơn giản, không bền vững – phù hợp để demo.\n",
        "    session_service_claude = InMemorySessionService()  # Tạo riêng cho agent Claude\n",
        "\n",
        "    # Xác định thông tin định danh cho ngữ cảnh tương tác\n",
        "    APP_NAME_CLAUDE = \"weather_tutorial_app_claude\"\n",
        "    USER_ID_CLAUDE = \"user_1_claude\"\n",
        "    SESSION_ID_CLAUDE = \"session_001_claude\"\n",
        "\n",
        "    # Tạo session cho cuộc trò chuyện này\n",
        "    session_claude = await session_service_claude.create_session(\n",
        "        app_name=APP_NAME_CLAUDE,\n",
        "        user_id=USER_ID_CLAUDE,\n",
        "        session_id=SESSION_ID_CLAUDE\n",
        "    )\n",
        "    print(f\"Đã tạo session: App='{APP_NAME_CLAUDE}', User='{USER_ID_CLAUDE}', Session='{SESSION_ID_CLAUDE}'\")\n",
        "\n",
        "    # Tạo runner cho agent này\n",
        "    runner_claude = Runner(\n",
        "        agent=weather_agent_claude,\n",
        "        app_name=APP_NAME_CLAUDE,\n",
        "        session_service=session_service_claude\n",
        "    )\n",
        "    print(f\"Đã tạo runner cho agent '{runner_claude.agent.name}'.\")\n",
        "\n",
        "    # --- Kiểm thử Agent Claude ---\n",
        "    print(\"\\n--- Đang kiểm tra agent Claude ---\")\n",
        "    await call_agent_async(query=\"Weather in London please.\",\n",
        "                           runner=runner_claude,\n",
        "                           user_id=USER_ID_CLAUDE,\n",
        "                           session_id=SESSION_ID_CLAUDE)\n",
        "\n",
        "except Exception as e:\n",
        "    print(f\"❌ Không thể tạo hoặc chạy Claude agent '{MODEL_CLAUDE_SONNET}'. Kiểm tra lại API Key và tên model. Lỗi: {e}\")"
      ]
    },
    {
      "cell_type": "markdown",
      "metadata": {
        "id": "mYc9C1AQylNc"
      },
      "source": [
        "# Step 3: Xây dựng một nhóm Agent - Phân quyền cho Lời chào và Tạm biệt"
      ]
    },
    {
      "cell_type": "markdown",
      "metadata": {
        "id": "MbevOP9L3OTp"
      },
      "source": [
        "## Định nghĩa các Tool cho các Agent phụ"
      ]
    },
    {
      "cell_type": "code",
      "execution_count": 14,
      "metadata": {
        "id": "q0V7NyX4yqKu"
      },
      "outputs": [],
      "source": [
        "from typing import Optional\n",
        "\n",
        "\n",
        "def say_hello(name: Optional[str] = None) -> str:\n",
        "    \"\"\"Trả về một lời chào đơn giản. Nếu có tên, lời chào sẽ bao gồm tên.\n",
        "\n",
        "    Args:\n",
        "        name (str, optional): Tên người cần chào. Mặc định sẽ dùng lời chào chung nếu không truyền tên.\n",
        "\n",
        "    Returns:\n",
        "        str: Câu chào thân thiện.\n",
        "    \"\"\"\n",
        "    if name:\n",
        "        greeting = f\"Xin chào, {name}!\"\n",
        "        print(f\"--- Tool: say_hello được gọi với tên: {name} ---\")\n",
        "    else:\n",
        "        greeting = \"Xin chào!\"\n",
        "        print(f\"--- Tool: say_hello được gọi mà không có tên cụ thể (giá trị name: {name}) ---\")\n",
        "    return greeting\n",
        "\n",
        "def say_goodbye() -> str:\n",
        "    \"\"\"Trả về một câu chào tạm biệt đơn giản để kết thúc cuộc hội thoại.\"\"\"\n",
        "    print(f\"--- Tool: say_goodbye được gọi ---\")\n",
        "    return \"Tạm biệt! Chúc bạn một ngày tốt lành.\"\n"
      ]
    },
    {
      "cell_type": "code",
      "execution_count": 15,
      "metadata": {
        "colab": {
          "base_uri": "https://localhost:8080/"
        },
        "id": "TH2FtxOI3a8A",
        "outputId": "f9ec70a7-def7-44a4-a901-28266c902607"
      },
      "outputs": [
        {
          "name": "stdout",
          "output_type": "stream",
          "text": [
            "--- Tool: say_hello được gọi với tên: Alice ---\n",
            "Xin chào, Alice!\n",
            "--- Tool: say_hello được gọi mà không có tên cụ thể (giá trị name: None) ---\n",
            "Xin chào!\n",
            "--- Tool: say_hello được gọi mà không có tên cụ thể (giá trị name: None) ---\n",
            "Xin chào!\n"
          ]
        }
      ],
      "source": [
        "print(say_hello(\"Alice\"))\n",
        "print(say_hello())\n",
        "print(say_hello(name=None))"
      ]
    },
    {
      "cell_type": "markdown",
      "metadata": {
        "id": "8gSmw3Qv3y6g"
      },
      "source": [
        "## Định nghĩa các Sub-Agent (Agent Chào hỏi & Tạm biệt)"
      ]
    },
    {
      "cell_type": "markdown",
      "metadata": {
        "id": "ROlSS3QG5wd2"
      },
      "source": [
        "### Định nghĩa Greeting Agent (Agent Chào hỏi)"
      ]
    },
    {
      "cell_type": "code",
      "execution_count": 16,
      "metadata": {
        "colab": {
          "base_uri": "https://localhost:8080/"
        },
        "id": "hWWqux_Z3mo0",
        "outputId": "1adff74b-b0c1-4176-bd42-e75ccfa4d56c"
      },
      "outputs": [
        {
          "name": "stdout",
          "output_type": "stream",
          "text": [
            "✅ Agent 'greeting_agent' đã được tạo với model 'gemini-2.0-flash'.\n"
          ]
        }
      ],
      "source": [
        "greeting_agent = None\n",
        "try:\n",
        "    greeting_agent = Agent(\n",
        "        model = MODEL_GEMINI_2_0_FLASH,  # Dùng model đơn giản vì nhiệm vụ nhẹ\n",
        "        name=\"greeting_agent\",\n",
        "        instruction=\"Bạn là Greeting Agent. NHIỆM VỤ DUY NHẤT của bạn là gửi lời chào thân thiện đến người dùng. \"\n",
        "                    \"Hãy dùng công cụ 'say_hello' để tạo lời chào. \"\n",
        "                    \"Nếu người dùng cung cấp tên, hãy truyền tên đó cho công cụ. \"\n",
        "                    \"Không thực hiện bất kỳ tác vụ nào khác.\",\n",
        "        description=\"Xử lý lời chào đơn giản và chào hỏi bằng công cụ 'say_hello'.\", # Cực kỳ quan trọng cho việc phân quyền\n",
        "        tools=[say_hello],\n",
        "    )\n",
        "    print(f\"✅ Agent '{greeting_agent.name}' đã được tạo với model '{greeting_agent.model}'.\")\n",
        "except Exception as e:\n",
        "    print(f\"❌ Không thể tạo Greeting Agent. Kiểm tra API Key ({greeting_agent.model}). Lỗi: {e}\")"
      ]
    },
    {
      "cell_type": "markdown",
      "metadata": {
        "id": "d3UrjVwu6SW5"
      },
      "source": [
        "###  Định nghĩa Farewell Agent (Agent Tạm biệt)"
      ]
    },
    {
      "cell_type": "code",
      "execution_count": 17,
      "metadata": {
        "colab": {
          "base_uri": "https://localhost:8080/"
        },
        "id": "njWOrxOJ6VGs",
        "outputId": "f1fd4f8c-4c1e-4355-ef5a-fbc8ed5fd8e8"
      },
      "outputs": [
        {
          "name": "stdout",
          "output_type": "stream",
          "text": [
            "✅ Agent 'farewell_agent' đã được tạo với model 'gemini-2.0-flash'.\n"
          ]
        }
      ],
      "source": [
        "farewell_agent = None\n",
        "try:\n",
        "    farewell_agent = Agent(\n",
        "        model = MODEL_GEMINI_2_0_FLASH,\n",
        "        name=\"farewell_agent\",\n",
        "        instruction=\"Bạn là Farewell Agent. NHIỆM VỤ DUY NHẤT của bạn là gửi lời tạm biệt lịch sự. \"\n",
        "                    \"Hãy dùng công cụ 'say_goodbye' khi người dùng thể hiện ý định rời đi hoặc kết thúc cuộc hội thoại \"\n",
        "                    \"(ví dụ như dùng các từ: 'bye', 'goodbye', 'cảm ơn tạm biệt', 'hẹn gặp lại'). \"\n",
        "                    \"Không thực hiện bất kỳ hành động nào khác.\",\n",
        "        description=\"Xử lý lời tạm biệt đơn giản bằng công cụ 'say_goodbye'.\", # Quan trọng để agent gốc hiểu phân công\n",
        "        tools=[say_goodbye],\n",
        "    )\n",
        "    print(f\"✅ Agent '{farewell_agent.name}' đã được tạo với model '{farewell_agent.model}'.\")\n",
        "except Exception as e:\n",
        "    print(f\"❌ Không thể tạo Farewell Agent. Kiểm tra API Key ({farewell_agent.model}). Lỗi: {e}\")"
      ]
    },
    {
      "cell_type": "markdown",
      "metadata": {
        "id": "JGniuSA-63aH"
      },
      "source": [
        "## Định nghĩa Agent gốc (Weather Agent v2) với các Sub-Agent"
      ]
    },
    {
      "cell_type": "code",
      "execution_count": 18,
      "metadata": {
        "colab": {
          "base_uri": "https://localhost:8080/"
        },
        "id": "lchYfMr46ZWA",
        "outputId": "74942763-f1ef-497a-99df-688637c58009"
      },
      "outputs": [
        {
          "name": "stdout",
          "output_type": "stream",
          "text": [
            "✅ Đã tạo Root Agent 'weather_agent_v2' sử dụng mô hình 'gemini-2.0-flash' với các sub-agent: ['greeting_agent', 'farewell_agent']\n"
          ]
        }
      ],
      "source": [
        "root_agent = None\n",
        "runner_root = None\n",
        "\n",
        "if greeting_agent and farewell_agent and 'get_weather' in globals():\n",
        "    # Sử dụng mô hình Gemini mạnh để điều phối\n",
        "    root_agent_model = MODEL_GEMINI_2_0_FLASH\n",
        "\n",
        "    weather_agent_team = Agent(\n",
        "        name=\"weather_agent_v2\",  # Đặt tên phiên bản mới\n",
        "        model=root_agent_model,\n",
        "        description=\"Agent điều phối chính. Xử lý yêu cầu thời tiết và ủy quyền lời chào/tạm biệt cho các agent chuyên biệt.\",\n",
        "        instruction=\"Bạn là Weather Agent chính, phụ trách điều phối một nhóm agent. Nhiệm vụ chính của bạn là cung cấp thông tin thời tiết. \"\n",
        "                    \"Chỉ sử dụng công cụ 'get_weather' cho các yêu cầu liên quan đến thời tiết (ví dụ: 'thời tiết ở London'). \"\n",
        "                    \"Bạn có các agent chuyên biệt như sau: \"\n",
        "                    \"1. 'greeting_agent': Xử lý lời chào đơn giản như 'Hi', 'Hello'. Hãy ủy quyền cho nó khi gặp các tình huống này. \"\n",
        "                    \"2. 'farewell_agent': Xử lý lời tạm biệt đơn giản như 'Bye', 'See you'. Hãy ủy quyền cho nó khi gặp các tình huống này. \"\n",
        "                    \"Phân tích câu hỏi người dùng. Nếu là lời chào, hãy ủy quyền cho 'greeting_agent'. Nếu là lời tạm biệt, hãy ủy quyền cho 'farewell_agent'. \"\n",
        "                    \"Nếu là yêu cầu thời tiết, bạn tự xử lý bằng 'get_weather'. \"\n",
        "                    \"Với các trường hợp khác, hãy phản hồi phù hợp hoặc thông báo rằng bạn không thể xử lý.\",\n",
        "        tools=[get_weather],  # Agent gốc vẫn cần tool thời tiết để xử lý\n",
        "        sub_agents=[greeting_agent, farewell_agent]\n",
        "    )\n",
        "    print(f\"✅ Đã tạo Root Agent '{weather_agent_team.name}' sử dụng mô hình '{root_agent_model}' với các sub-agent: {[sa.name for sa in weather_agent_team.sub_agents]}\")\n",
        "else:\n",
        "    print(\"❌ Không thể tạo root agent vì thiếu sub-agent hoặc hàm 'get_weather'.\")\n",
        "    if not greeting_agent: print(\" - Thiếu Greeting Agent.\")\n",
        "    if not farewell_agent: print(\" - Thiếu Farewell Agent.\")\n",
        "    if 'get_weather' not in globals(): print(\" - Thiếu hàm get_weather.\")\n"
      ]
    },
    {
      "cell_type": "markdown",
      "metadata": {
        "id": "NH-JrZZbAP1i"
      },
      "source": [
        "## Tương tác với nhóm Agent"
      ]
    },
    {
      "cell_type": "code",
      "execution_count": 20,
      "metadata": {
        "colab": {
          "base_uri": "https://localhost:8080/"
        },
        "id": "NcGNtginATug",
        "outputId": "3a7dc5b1-5b2f-46b1-f029-c247f86787a9"
      },
      "outputs": [
        {
          "name": "stdout",
          "output_type": "stream",
          "text": [
            "Đang thử thực thi bằng 'await' (mặc định cho notebooks)...\n",
            "\n",
            "--- Đang kiểm tra tính năng phân quyền của Đội ngũ Agent ---\n",
            "Đã tạo session: App='weather_tutorial_agent_team', User='user_1_agent_team', Session='session_001_agent_team'\n",
            "Đã tạo runner cho agent 'weather_agent_v2'.\n",
            "\n",
            ">>> Câu hỏi từ người dùng: Xin chào!\n"
          ]
        },
        {
          "name": "stderr",
          "output_type": "stream",
          "text": [
            "WARNING:google_genai.types:Warning: there are non-text parts in the response: ['function_call'], returning concatenated text result from text parts. Check the full candidates.content.parts accessor to get the full model response.\n"
          ]
        },
        {
          "name": "stdout",
          "output_type": "stream",
          "text": [
            "  [Event] Tác giả: weather_agent_v2, Loại: Event, Cuối cùng: False, Nội dung: parts=[Part(video_metadata=None, thought=None, inline_data=None, file_data=None, thought_signature=None, code_execution_result=None, executable_code=None, function_call=FunctionCall(id='adk-bf991169-77b4-4761-84ae-5467371620f1', args={'agent_name': 'greeting_agent'}, name='transfer_to_agent'), function_response=None, text=None)] role='model'\n",
            "  [Event] Tác giả: weather_agent_v2, Loại: Event, Cuối cùng: False, Nội dung: parts=[Part(video_metadata=None, thought=None, inline_data=None, file_data=None, thought_signature=None, code_execution_result=None, executable_code=None, function_call=None, function_response=FunctionResponse(will_continue=None, scheduling=None, id='adk-bf991169-77b4-4761-84ae-5467371620f1', name='transfer_to_agent', response={'result': None}), text=None)] role='user'\n"
          ]
        },
        {
          "name": "stderr",
          "output_type": "stream",
          "text": [
            "WARNING:google_genai.types:Warning: there are non-text parts in the response: ['function_call'], returning concatenated text result from text parts. Check the full candidates.content.parts accessor to get the full model response.\n"
          ]
        },
        {
          "name": "stdout",
          "output_type": "stream",
          "text": [
            "  [Event] Tác giả: greeting_agent, Loại: Event, Cuối cùng: False, Nội dung: parts=[Part(video_metadata=None, thought=None, inline_data=None, file_data=None, thought_signature=None, code_execution_result=None, executable_code=None, function_call=FunctionCall(id='adk-2da88055-4256-4526-b0eb-9ed5eff117c8', args={}, name='say_hello'), function_response=None, text=None)] role='model'\n",
            "--- Tool: say_hello được gọi mà không có tên cụ thể (giá trị name: None) ---\n",
            "  [Event] Tác giả: greeting_agent, Loại: Event, Cuối cùng: False, Nội dung: parts=[Part(video_metadata=None, thought=None, inline_data=None, file_data=None, thought_signature=None, code_execution_result=None, executable_code=None, function_call=None, function_response=FunctionResponse(will_continue=None, scheduling=None, id='adk-2da88055-4256-4526-b0eb-9ed5eff117c8', name='say_hello', response={'result': 'Xin chào!'}), text=None)] role='user'\n",
            "  [Event] Tác giả: greeting_agent, Loại: Event, Cuối cùng: True, Nội dung: parts=[Part(video_metadata=None, thought=None, inline_data=None, file_data=None, thought_signature=None, code_execution_result=None, executable_code=None, function_call=None, function_response=None, text='Xin chào!\\n')] role='model'\n",
            "<<< Phản hồi từ Agent: Xin chào!\n",
            "\n",
            "\n",
            ">>> Câu hỏi từ người dùng: Thời tiết ở New York như nào?\n"
          ]
        },
        {
          "name": "stderr",
          "output_type": "stream",
          "text": [
            "WARNING:google_genai.types:Warning: there are non-text parts in the response: ['function_call'], returning concatenated text result from text parts. Check the full candidates.content.parts accessor to get the full model response.\n"
          ]
        },
        {
          "name": "stdout",
          "output_type": "stream",
          "text": [
            "  [Event] Tác giả: greeting_agent, Loại: Event, Cuối cùng: False, Nội dung: parts=[Part(video_metadata=None, thought=None, inline_data=None, file_data=None, thought_signature=None, code_execution_result=None, executable_code=None, function_call=FunctionCall(id='adk-2cb53e8f-be4f-44c3-b942-d9828dd9b058', args={'agent_name': 'weather_agent_v2'}, name='transfer_to_agent'), function_response=None, text=None)] role='model'\n",
            "  [Event] Tác giả: greeting_agent, Loại: Event, Cuối cùng: False, Nội dung: parts=[Part(video_metadata=None, thought=None, inline_data=None, file_data=None, thought_signature=None, code_execution_result=None, executable_code=None, function_call=None, function_response=FunctionResponse(will_continue=None, scheduling=None, id='adk-2cb53e8f-be4f-44c3-b942-d9828dd9b058', name='transfer_to_agent', response={'result': None}), text=None)] role='user'\n"
          ]
        },
        {
          "name": "stderr",
          "output_type": "stream",
          "text": [
            "WARNING:google_genai.types:Warning: there are non-text parts in the response: ['function_call'], returning concatenated text result from text parts. Check the full candidates.content.parts accessor to get the full model response.\n"
          ]
        },
        {
          "name": "stdout",
          "output_type": "stream",
          "text": [
            "  [Event] Tác giả: weather_agent_v2, Loại: Event, Cuối cùng: False, Nội dung: parts=[Part(video_metadata=None, thought=None, inline_data=None, file_data=None, thought_signature=None, code_execution_result=None, executable_code=None, function_call=FunctionCall(id='adk-e5ebec88-488e-45a9-97aa-e55903266064', args={'city': 'New York'}, name='get_weather'), function_response=None, text=None)] role='model'\n",
            "--- Tool: get_weather được gọi cho thành phố: New York ---\n",
            "  [Event] Tác giả: weather_agent_v2, Loại: Event, Cuối cùng: False, Nội dung: parts=[Part(video_metadata=None, thought=None, inline_data=None, file_data=None, thought_signature=None, code_execution_result=None, executable_code=None, function_call=None, function_response=FunctionResponse(will_continue=None, scheduling=None, id='adk-e5ebec88-488e-45a9-97aa-e55903266064', name='get_weather', response={'status': 'success', 'report': 'Thời tiết ở New York nắng, nhiệt độ 25°C.'}), text=None)] role='user'\n",
            "  [Event] Tác giả: weather_agent_v2, Loại: Event, Cuối cùng: True, Nội dung: parts=[Part(video_metadata=None, thought=None, inline_data=None, file_data=None, thought_signature=None, code_execution_result=None, executable_code=None, function_call=None, function_response=None, text='Thời tiết ở New York nắng, nhiệt độ 25°C.\\n')] role='model'\n",
            "<<< Phản hồi từ Agent: Thời tiết ở New York nắng, nhiệt độ 25°C.\n",
            "\n",
            "\n",
            ">>> Câu hỏi từ người dùng: Cảm ơn, tạm biệt nhé!\n"
          ]
        },
        {
          "name": "stderr",
          "output_type": "stream",
          "text": [
            "WARNING:google_genai.types:Warning: there are non-text parts in the response: ['function_call'], returning concatenated text result from text parts. Check the full candidates.content.parts accessor to get the full model response.\n"
          ]
        },
        {
          "name": "stdout",
          "output_type": "stream",
          "text": [
            "  [Event] Tác giả: weather_agent_v2, Loại: Event, Cuối cùng: False, Nội dung: parts=[Part(video_metadata=None, thought=None, inline_data=None, file_data=None, thought_signature=None, code_execution_result=None, executable_code=None, function_call=FunctionCall(id='adk-0fc945da-2d94-4ea6-a24c-e6aee8509ccd', args={'agent_name': 'farewell_agent'}, name='transfer_to_agent'), function_response=None, text=None)] role='model'\n",
            "  [Event] Tác giả: weather_agent_v2, Loại: Event, Cuối cùng: False, Nội dung: parts=[Part(video_metadata=None, thought=None, inline_data=None, file_data=None, thought_signature=None, code_execution_result=None, executable_code=None, function_call=None, function_response=FunctionResponse(will_continue=None, scheduling=None, id='adk-0fc945da-2d94-4ea6-a24c-e6aee8509ccd', name='transfer_to_agent', response={'result': None}), text=None)] role='user'\n"
          ]
        },
        {
          "name": "stderr",
          "output_type": "stream",
          "text": [
            "WARNING:google_genai.types:Warning: there are non-text parts in the response: ['function_call'], returning concatenated text result from text parts. Check the full candidates.content.parts accessor to get the full model response.\n"
          ]
        },
        {
          "name": "stdout",
          "output_type": "stream",
          "text": [
            "  [Event] Tác giả: farewell_agent, Loại: Event, Cuối cùng: False, Nội dung: parts=[Part(video_metadata=None, thought=None, inline_data=None, file_data=None, thought_signature=None, code_execution_result=None, executable_code=None, function_call=FunctionCall(id='adk-444f4dc0-9126-4f71-8600-15b5968eca47', args={}, name='say_goodbye'), function_response=None, text=None)] role='model'\n",
            "--- Tool: say_goodbye được gọi ---\n",
            "  [Event] Tác giả: farewell_agent, Loại: Event, Cuối cùng: False, Nội dung: parts=[Part(video_metadata=None, thought=None, inline_data=None, file_data=None, thought_signature=None, code_execution_result=None, executable_code=None, function_call=None, function_response=FunctionResponse(will_continue=None, scheduling=None, id='adk-444f4dc0-9126-4f71-8600-15b5968eca47', name='say_goodbye', response={'result': 'Tạm biệt! Chúc bạn một ngày tốt lành.'}), text=None)] role='user'\n",
            "  [Event] Tác giả: farewell_agent, Loại: Event, Cuối cùng: True, Nội dung: parts=[Part(video_metadata=None, thought=None, inline_data=None, file_data=None, thought_signature=None, code_execution_result=None, executable_code=None, function_call=None, function_response=None, text='Tạm biệt! Chúc bạn một ngày tốt lành.\\n')] role='model'\n",
            "<<< Phản hồi từ Agent: Tạm biệt! Chúc bạn một ngày tốt lành.\n",
            "\n"
          ]
        }
      ],
      "source": [
        "import asyncio\n",
        "\n",
        "# Kiểm tra biến agent gốc có tồn tại không trước khi định nghĩa hàm trò chuyện\n",
        "root_agent_var_name = 'root_agent'\n",
        "\n",
        "if 'weather_agent_team' in globals():\n",
        "    root_agent_var_name = 'weather_agent_team'\n",
        "elif 'root_agent' not in globals():\n",
        "    print(\"⚠️ Không tìm thấy agent gốc ('root_agent' hoặc 'weather_agent_team'). Không thể định nghĩa run_team_conversation.\")\n",
        "    root_agent = None  # Gán giá trị tạm để tránh lỗi\n",
        "\n",
        "# Chỉ định nghĩa và chạy nếu agent gốc tồn tại\n",
        "if root_agent_var_name in globals() and globals()[root_agent_var_name]:\n",
        "    # Định nghĩa hàm async chính cho logic trò chuyện\n",
        "    async def run_team_conversation():\n",
        "        print(\"\\n--- Đang kiểm tra tính năng phân quyền của Đội ngũ Agent ---\")\n",
        "        session_service = InMemorySessionService()\n",
        "        APP_NAME = \"weather_tutorial_agent_team\"\n",
        "        USER_ID = \"user_1_agent_team\"\n",
        "        SESSION_ID = \"session_001_agent_team\"\n",
        "\n",
        "        session = await session_service.create_session(\n",
        "            app_name=APP_NAME, user_id=USER_ID, session_id=SESSION_ID\n",
        "        )\n",
        "        print(f\"Đã tạo session: App='{APP_NAME}', User='{USER_ID}', Session='{SESSION_ID}'\")\n",
        "\n",
        "        actual_root_agent = globals()[root_agent_var_name]\n",
        "        runner_agent_team = Runner(\n",
        "            agent=actual_root_agent,\n",
        "            app_name=APP_NAME,\n",
        "            session_service=session_service\n",
        "        )\n",
        "        print(f\"Đã tạo runner cho agent '{actual_root_agent.name}'.\")\n",
        "\n",
        "        # --- Tương tác (dùng await trong async def) ---\n",
        "        await call_agent_async(query = \"Xin chào!\",\n",
        "                               runner=runner_agent_team,\n",
        "                               user_id=USER_ID,\n",
        "                               session_id=SESSION_ID)\n",
        "        await call_agent_async(query = \"Thời tiết ở New York như nào?\",\n",
        "                               runner=runner_agent_team,\n",
        "                               user_id=USER_ID,\n",
        "                               session_id=SESSION_ID)\n",
        "        await call_agent_async(query = \"Cảm ơn, tạm biệt nhé!\",\n",
        "                               runner=runner_agent_team,\n",
        "                               user_id=USER_ID,\n",
        "                               session_id=SESSION_ID)\n",
        "\n",
        "    # --- Thực thi hàm async `run_team_conversation` ---\n",
        "    print(\"Đang thử thực thi bằng 'await' (mặc định cho notebooks)...\")\n",
        "    await run_team_conversation()"
      ]
    },
    {
      "cell_type": "markdown",
      "metadata": {
        "id": "640paakAEN1P"
      },
      "source": [
        "# Step 4: Thêm ghi nhớ và cá nhân hóa với session state"
      ]
    },
    {
      "cell_type": "code",
      "execution_count": 21,
      "metadata": {
        "colab": {
          "base_uri": "https://localhost:8080/"
        },
        "id": "GXN6YTrMB8oE",
        "outputId": "db8133a9-e77c-48a1-a80d-30002a70e69d"
      },
      "outputs": [
        {
          "name": "stdout",
          "output_type": "stream",
          "text": [
            "✅ Đã tạo InMemorySessionService mới cho phần trình diễn trạng thái.\n",
            "✅ Session 'session_state_demo_001' đã được tạo cho người dùng 'user_state_demo'.\n",
            "\n",
            "--- Trạng thái session ban đầu ---\n",
            "{'user_preference_temperature_unit': 'Celsius'}\n"
          ]
        }
      ],
      "source": [
        "# Nhập các thành phần cần thiết để quản lý phiên làm việc\n",
        "from google.adk.sessions import InMemorySessionService\n",
        "\n",
        "# Tạo một instance mới của InMemorySessionService để thử nghiệm trạng thái\n",
        "session_service_stateful = InMemorySessionService()\n",
        "print(\"✅ Đã tạo InMemorySessionService mới cho phần trình diễn trạng thái.\")\n",
        "\n",
        "# Đặt ID mới cho session\n",
        "SESSION_ID_STATEFUL = \"session_state_demo_001\"\n",
        "USER_ID_STATEFUL = \"user_state_demo\"\n",
        "\n",
        "# Khai báo trạng thái ban đầu – người dùng muốn dùng đơn vị Celsius\n",
        "initial_state = {\n",
        "    \"user_preference_temperature_unit\": \"Celsius\"\n",
        "}\n",
        "\n",
        "# Tạo session mới và cung cấp trạng thái ban đầu\n",
        "session_stateful = await session_service_stateful.create_session(\n",
        "    app_name=APP_NAME,  # Giữ nguyên tên ứng dụng\n",
        "    user_id=USER_ID_STATEFUL,\n",
        "    session_id=SESSION_ID_STATEFUL,\n",
        "    state=initial_state  # <<< Khởi tạo session.state tại đây\n",
        ")\n",
        "print(f\"✅ Session '{SESSION_ID_STATEFUL}' đã được tạo cho người dùng '{USER_ID_STATEFUL}'.\")\n",
        "\n",
        "# Kiểm tra lại session vừa tạo và in ra trạng thái ban đầu\n",
        "retrieved_session = await session_service_stateful.get_session(app_name=APP_NAME,\n",
        "                                                         user_id=USER_ID_STATEFUL,\n",
        "                                                         session_id = SESSION_ID_STATEFUL)\n",
        "print(\"\\n--- Trạng thái session ban đầu ---\")\n",
        "if retrieved_session:\n",
        "    print(retrieved_session.state)\n",
        "else:\n",
        "    print(\"Lỗi: Không thể truy xuất session.\")\n"
      ]
    },
    {
      "cell_type": "code",
      "execution_count": 23,
      "metadata": {
        "colab": {
          "base_uri": "https://localhost:8080/"
        },
        "id": "rr363fTSN6lL",
        "outputId": "72fdac14-f20b-490d-97b7-73ef0e6d96bf"
      },
      "outputs": [
        {
          "name": "stdout",
          "output_type": "stream",
          "text": [
            "✅ Đã định nghĩa công cụ 'get_weather_stateful' có hỗ trợ trạng thái.\n"
          ]
        }
      ],
      "source": [
        "from google.adk.tools.tool_context import ToolContext\n",
        "\n",
        "def get_weather_stateful(city: str, tool_context: ToolContext) -> dict:\n",
        "    \"\"\"Lấy thông tin thời tiết và định dạng đơn vị nhiệt độ dựa theo trạng thái phiên làm việc của người dùng.\"\"\"\n",
        "    print(f\"--- Tool: get_weather_stateful được gọi với thành phố {city} ---\")\n",
        "\n",
        "    # --- Đọc đơn vị nhiệt độ ưa thích từ session state ---\n",
        "    preferred_unit = tool_context.state.get(\"user_preference_temperature_unit\", \"Celsius\")  # Mặc định là Celsius nếu không có\n",
        "    print(f\"--- Tool: Đọc state 'user_preference_temperature_unit': {preferred_unit} ---\")\n",
        "\n",
        "    city_normalized = city.lower().replace(\" \", \"\")  # Chuẩn hóa tên thành phố (thường dùng để tra key)\n",
        "\n",
        "    # Cơ sở dữ liệu mô phỏng thời tiết (nhiệt độ luôn lưu theo Celsius)\n",
        "    mock_weather_db = {\n",
        "        \"newyork\": {\"temp_c\": 25, \"condition\": \"sunny\"},\n",
        "        \"london\": {\"temp_c\": 15, \"condition\": \"cloudy\"},\n",
        "        \"tokyo\": {\"temp_c\": 18, \"condition\": \"light rain\"},\n",
        "    }\n",
        "\n",
        "    if city_normalized in mock_weather_db:\n",
        "        data = mock_weather_db[city_normalized]\n",
        "        temp_c = data[\"temp_c\"]\n",
        "        condition = data[\"condition\"]\n",
        "\n",
        "        # Chuyển đổi đơn vị nhiệt độ nếu cần\n",
        "        if preferred_unit == \"Fahrenheit\":\n",
        "            temp_value = (temp_c * 9/5) + 32  # Đổi sang Fahrenheit\n",
        "            temp_unit = \"°F\"\n",
        "        else:\n",
        "            temp_value = temp_c\n",
        "            temp_unit = \"°C\"\n",
        "\n",
        "        # Tạo bản báo cáo thời tiết\n",
        "        report = f\"The weather in {city.capitalize()} is {condition} with a temperature of {temp_value:.0f}{temp_unit}.\"\n",
        "        result = {\"status\": \"success\", \"report\": report}\n",
        "        print(f\"--- Tool: Tạo báo cáo thời tiết theo {preferred_unit}. Kết quả: {result} ---\")\n",
        "\n",
        "        # (Tùy chọn) Ghi lại tên thành phố vừa được tra vào state\n",
        "        tool_context.state[\"last_city_checked_stateful\"] = city\n",
        "        print(f\"--- Tool: Cập nhật state 'last_city_checked_stateful': {city} ---\")\n",
        "\n",
        "        return result\n",
        "    else:\n",
        "        # Trường hợp không tìm thấy thành phố\n",
        "        error_msg = f\"Sorry, I don't have weather information for '{city}'.\"\n",
        "        print(f\"--- Tool: Thành phố '{city}' không có trong dữ liệu. ---\")\n",
        "        return {\"status\": \"error\", \"error_message\": error_msg}\n",
        "\n",
        "print(\"✅ Đã định nghĩa công cụ 'get_weather_stateful' có hỗ trợ trạng thái.\")"
      ]
    },
    {
      "cell_type": "code",
      "execution_count": 25,
      "metadata": {
        "colab": {
          "base_uri": "https://localhost:8080/"
        },
        "id": "dsPmCP7zNKC0",
        "outputId": "fa1984e9-22de-4fb4-b972-d8bf272401a2"
      },
      "outputs": [
        {
          "name": "stdout",
          "output_type": "stream",
          "text": [
            "✅ Đã định nghĩa lại agent 'greeting_agent'.\n",
            "✅ Đã định nghĩa lại agent 'farewell_agent'.\n",
            "✅ Đã tạo Root Agent 'weather_agent_v4_stateful' có hỗ trợ state và output_key.\n",
            "✅ Đã tạo Runner cho Root Agent có state 'weather_agent_v4_stateful'.\n"
          ]
        }
      ],
      "source": [
        "# Định nghĩa lại các Agent con và cập nhật Root Agent có hỗ trợ trạng thái (state)\n",
        "\n",
        "from google.adk.agents import Agent\n",
        "from google.adk.models.lite_llm import LiteLlm\n",
        "from google.adk.runners import Runner\n",
        "\n",
        "# --- Định nghĩa lại Greeting Agent ---\n",
        "greeting_agent = None\n",
        "try:\n",
        "    greeting_agent = Agent(\n",
        "        model=MODEL_GEMINI_2_0_FLASH,\n",
        "        name=\"greeting_agent\",\n",
        "        instruction=\"Bạn là Greeting Agent. Nhiệm vụ DUY NHẤT của bạn là chào hỏi người dùng bằng cách dùng công cụ 'say_hello'. Không làm gì khác.\",\n",
        "        description=\"Xử lý lời chào đơn giản bằng công cụ 'say_hello'.\",\n",
        "        tools=[say_hello],\n",
        "    )\n",
        "    print(f\"✅ Đã định nghĩa lại agent '{greeting_agent.name}'.\")\n",
        "except Exception as e:\n",
        "    print(f\"❌ Không thể định nghĩa Greeting agent. Lỗi: {e}\")\n",
        "\n",
        "\n",
        "# --- Định nghĩa lại Farewell Agent ---\n",
        "farewell_agent = None\n",
        "try:\n",
        "    farewell_agent = Agent(\n",
        "        model=MODEL_GEMINI_2_0_FLASH,\n",
        "        name=\"farewell_agent\",\n",
        "        instruction=\"Bạn là Farewell Agent. Nhiệm vụ DUY NHẤT là chào tạm biệt người dùng bằng công cụ 'say_goodbye'. Không thực hiện tác vụ khác.\",\n",
        "        description=\"Xử lý lời tạm biệt đơn giản bằng công cụ 'say_goodbye'.\",\n",
        "        tools=[say_goodbye],\n",
        "    )\n",
        "    print(f\"✅ Đã định nghĩa lại agent '{farewell_agent.name}'.\")\n",
        "except Exception as e:\n",
        "    print(f\"❌ Không thể định nghĩa Farewell agent. Lỗi: {e}\")\n",
        "\n",
        "\n",
        "# --- Tạo Root Agent mới có hỗ trợ trạng thái ---\n",
        "root_agent_stateful = None\n",
        "runner_root_stateful = None  # Tạo biến runner\n",
        "\n",
        "# Kiểm tra các thành phần cần thiết đã có chưa\n",
        "if greeting_agent and farewell_agent and 'get_weather_stateful' in globals():\n",
        "\n",
        "    root_agent_model = MODEL_GEMINI_2_0_FLASH\n",
        "\n",
        "    root_agent_stateful = Agent(\n",
        "        name=\"weather_agent_v4_stateful\",  # Tên agent mới (v4, có state)\n",
        "        model=root_agent_model,\n",
        "        description=\"Agent chính: Cung cấp thời tiết (có xét trạng thái người dùng), chuyển lời chào/tạm biệt cho agent con, và lưu kết quả thời tiết vào state.\",\n",
        "        instruction=\"Bạn là Weather Agent chính. Công việc của bạn là cung cấp thông tin thời tiết bằng công cụ 'get_weather_stateful'. \"\n",
        "                    \"Công cụ này sẽ định dạng nhiệt độ dựa theo sở thích của người dùng lưu trong state. \"\n",
        "                    \"Hãy chuyển tiếp các câu chào đơn giản cho 'greeting_agent' và tạm biệt cho 'farewell_agent'. \"\n",
        "                    \"Chỉ xử lý các yêu cầu về thời tiết, lời chào và lời tạm biệt.\",\n",
        "        tools=[get_weather_stateful],  # Sử dụng công cụ mới hỗ trợ đọc state\n",
        "        sub_agents=[greeting_agent, farewell_agent],  # Thêm các agent con\n",
        "        output_key=\"last_weather_report\"  # Dòng này giúp lưu phản hồi cuối cùng vào session.state[\"last_weather_report\"]\n",
        "    )\n",
        "    print(f\"✅ Đã tạo Root Agent '{root_agent_stateful.name}' có hỗ trợ state và output_key.\")\n",
        "\n",
        "    # --- Tạo Runner để chạy Root Agent này ---\n",
        "    runner_root_stateful = Runner(\n",
        "        agent=root_agent_stateful,\n",
        "        app_name=APP_NAME,  # Tên ứng dụng bạn đã định nghĩa từ trước\n",
        "        session_service=session_service_stateful  # Dùng dịch vụ session có hỗ trợ state\n",
        "    )\n",
        "    print(f\"✅ Đã tạo Runner cho Root Agent có state '{runner_root_stateful.agent.name}'.\")\n",
        "\n",
        "else:\n",
        "    print(\"❌ Không thể tạo Root Agent có state. Thiếu các thành phần cần thiết.\")\n",
        "    if not greeting_agent:\n",
        "        print(\" - Thiếu định nghĩa greeting_agent.\")\n",
        "    if not farewell_agent:\n",
        "        print(\" - Thiếu định nghĩa farewell_agent.\")\n",
        "    if 'get_weather_stateful' not in globals():\n",
        "        print(\" - Thiếu tool get_weather_stateful.\")\n"
      ]
    },
    {
      "cell_type": "code",
      "execution_count": 26,
      "metadata": {
        "colab": {
          "base_uri": "https://localhost:8080/"
        },
        "id": "McUji7m4O40p",
        "outputId": "216659ad-5300-46f3-d26c-b80102f7afec"
      },
      "outputs": [
        {
          "name": "stdout",
          "output_type": "stream",
          "text": [
            "Đang thực thi bằng 'await' (mặc định cho notebook)...\n",
            "\n",
            "--- Đang kiểm tra state: Đổi đơn vị nhiệt độ & output_key ---\n",
            "--- Bước 1: Yêu cầu thời tiết ở London (kỳ vọng là Celsius) ---\n",
            "\n",
            ">>> Câu hỏi từ người dùng: What's the weather in London?\n"
          ]
        },
        {
          "name": "stderr",
          "output_type": "stream",
          "text": [
            "WARNING:google_genai.types:Warning: there are non-text parts in the response: ['function_call'], returning concatenated text result from text parts. Check the full candidates.content.parts accessor to get the full model response.\n"
          ]
        },
        {
          "name": "stdout",
          "output_type": "stream",
          "text": [
            "  [Event] Tác giả: weather_agent_v4_stateful, Loại: Event, Cuối cùng: False, Nội dung: parts=[Part(video_metadata=None, thought=None, inline_data=None, file_data=None, thought_signature=None, code_execution_result=None, executable_code=None, function_call=FunctionCall(id='adk-9025ac59-e1d5-411e-99d9-6b770442f5e9', args={'city': 'London'}, name='get_weather_stateful'), function_response=None, text=None)] role='model'\n",
            "--- Tool: get_weather_stateful được gọi với thành phố London ---\n",
            "--- Tool: Đọc state 'user_preference_temperature_unit': Celsius ---\n",
            "--- Tool: Tạo báo cáo thời tiết theo Celsius. Kết quả: {'status': 'success', 'report': 'The weather in London is cloudy with a temperature of 15°C.'} ---\n",
            "--- Tool: Cập nhật state 'last_city_checked_stateful': London ---\n",
            "  [Event] Tác giả: weather_agent_v4_stateful, Loại: Event, Cuối cùng: False, Nội dung: parts=[Part(video_metadata=None, thought=None, inline_data=None, file_data=None, thought_signature=None, code_execution_result=None, executable_code=None, function_call=None, function_response=FunctionResponse(will_continue=None, scheduling=None, id='adk-9025ac59-e1d5-411e-99d9-6b770442f5e9', name='get_weather_stateful', response={'status': 'success', 'report': 'The weather in London is cloudy with a temperature of 15°C.'}), text=None)] role='user'\n",
            "  [Event] Tác giả: weather_agent_v4_stateful, Loại: Event, Cuối cùng: True, Nội dung: parts=[Part(video_metadata=None, thought=None, inline_data=None, file_data=None, thought_signature=None, code_execution_result=None, executable_code=None, function_call=None, function_response=None, text='The weather in London is cloudy with a temperature of 15°C.\\n')] role='model'\n",
            "<<< Phản hồi từ Agent: The weather in London is cloudy with a temperature of 15°C.\n",
            "\n",
            "\n",
            "--- Cập nhật thủ công state: Chuyển đơn vị sang Fahrenheit ---\n",
            "--- Trạng thái đã cập nhật. Giá trị hiện tại: Fahrenheit ---\n",
            "\n",
            "--- Bước 2: Yêu cầu thời tiết ở New York (kỳ vọng là Fahrenheit) ---\n",
            "\n",
            ">>> Câu hỏi từ người dùng: Tell me the weather in New York.\n"
          ]
        },
        {
          "name": "stderr",
          "output_type": "stream",
          "text": [
            "WARNING:google_genai.types:Warning: there are non-text parts in the response: ['function_call'], returning concatenated text result from text parts. Check the full candidates.content.parts accessor to get the full model response.\n"
          ]
        },
        {
          "name": "stdout",
          "output_type": "stream",
          "text": [
            "  [Event] Tác giả: weather_agent_v4_stateful, Loại: Event, Cuối cùng: False, Nội dung: parts=[Part(video_metadata=None, thought=None, inline_data=None, file_data=None, thought_signature=None, code_execution_result=None, executable_code=None, function_call=FunctionCall(id='adk-8503e9e7-672a-4bb4-b70d-12dbff85dea3', args={'city': 'New York'}, name='get_weather_stateful'), function_response=None, text=None)] role='model'\n",
            "--- Tool: get_weather_stateful được gọi với thành phố New York ---\n",
            "--- Tool: Đọc state 'user_preference_temperature_unit': Fahrenheit ---\n",
            "--- Tool: Tạo báo cáo thời tiết theo Fahrenheit. Kết quả: {'status': 'success', 'report': 'The weather in New york is sunny with a temperature of 77°F.'} ---\n",
            "--- Tool: Cập nhật state 'last_city_checked_stateful': New York ---\n",
            "  [Event] Tác giả: weather_agent_v4_stateful, Loại: Event, Cuối cùng: False, Nội dung: parts=[Part(video_metadata=None, thought=None, inline_data=None, file_data=None, thought_signature=None, code_execution_result=None, executable_code=None, function_call=None, function_response=FunctionResponse(will_continue=None, scheduling=None, id='adk-8503e9e7-672a-4bb4-b70d-12dbff85dea3', name='get_weather_stateful', response={'status': 'success', 'report': 'The weather in New york is sunny with a temperature of 77°F.'}), text=None)] role='user'\n",
            "  [Event] Tác giả: weather_agent_v4_stateful, Loại: Event, Cuối cùng: True, Nội dung: parts=[Part(video_metadata=None, thought=None, inline_data=None, file_data=None, thought_signature=None, code_execution_result=None, executable_code=None, function_call=None, function_response=None, text='The weather in New york is sunny with a temperature of 77°F.\\n')] role='model'\n",
            "<<< Phản hồi từ Agent: The weather in New york is sunny with a temperature of 77°F.\n",
            "\n",
            "\n",
            "--- Bước 3: Gửi lời chào ---\n",
            "\n",
            ">>> Câu hỏi từ người dùng: Hi!\n"
          ]
        },
        {
          "name": "stderr",
          "output_type": "stream",
          "text": [
            "WARNING:google_genai.types:Warning: there are non-text parts in the response: ['function_call'], returning concatenated text result from text parts. Check the full candidates.content.parts accessor to get the full model response.\n"
          ]
        },
        {
          "name": "stdout",
          "output_type": "stream",
          "text": [
            "  [Event] Tác giả: weather_agent_v4_stateful, Loại: Event, Cuối cùng: False, Nội dung: parts=[Part(video_metadata=None, thought=None, inline_data=None, file_data=None, thought_signature=None, code_execution_result=None, executable_code=None, function_call=FunctionCall(id='adk-fbd5f214-c092-4dc1-81aa-eeddef5dc65b', args={'agent_name': 'greeting_agent'}, name='transfer_to_agent'), function_response=None, text=None)] role='model'\n",
            "  [Event] Tác giả: weather_agent_v4_stateful, Loại: Event, Cuối cùng: False, Nội dung: parts=[Part(video_metadata=None, thought=None, inline_data=None, file_data=None, thought_signature=None, code_execution_result=None, executable_code=None, function_call=None, function_response=FunctionResponse(will_continue=None, scheduling=None, id='adk-fbd5f214-c092-4dc1-81aa-eeddef5dc65b', name='transfer_to_agent', response={'result': None}), text=None)] role='user'\n"
          ]
        },
        {
          "name": "stderr",
          "output_type": "stream",
          "text": [
            "WARNING:google_genai.types:Warning: there are non-text parts in the response: ['function_call'], returning concatenated text result from text parts. Check the full candidates.content.parts accessor to get the full model response.\n"
          ]
        },
        {
          "name": "stdout",
          "output_type": "stream",
          "text": [
            "  [Event] Tác giả: greeting_agent, Loại: Event, Cuối cùng: False, Nội dung: parts=[Part(video_metadata=None, thought=None, inline_data=None, file_data=None, thought_signature=None, code_execution_result=None, executable_code=None, function_call=FunctionCall(id='adk-07fde593-824b-4849-8b0e-a0ffa2b15e1e', args={}, name='say_hello'), function_response=None, text=None)] role='model'\n",
            "--- Tool: say_hello được gọi mà không có tên cụ thể (giá trị name: None) ---\n",
            "  [Event] Tác giả: greeting_agent, Loại: Event, Cuối cùng: False, Nội dung: parts=[Part(video_metadata=None, thought=None, inline_data=None, file_data=None, thought_signature=None, code_execution_result=None, executable_code=None, function_call=None, function_response=FunctionResponse(will_continue=None, scheduling=None, id='adk-07fde593-824b-4849-8b0e-a0ffa2b15e1e', name='say_hello', response={'result': 'Xin chào!'}), text=None)] role='user'\n",
            "  [Event] Tác giả: greeting_agent, Loại: Event, Cuối cùng: True, Nội dung: parts=[Part(video_metadata=None, thought=None, inline_data=None, file_data=None, thought_signature=None, code_execution_result=None, executable_code=None, function_call=None, function_response=None, text='Xin chào!\\n')] role='model'\n",
            "<<< Phản hồi từ Agent: Xin chào!\n",
            "\n",
            "\n",
            "--- Kiểm tra trạng thái phiên làm việc cuối cùng ---\n",
            "Đơn vị nhiệt độ hiện tại: Fahrenheit\n",
            "Báo cáo thời tiết cuối (từ output_key): Xin chào!\n",
            "\n",
            "Thành phố kiểm tra cuối cùng (do công cụ ghi): New York\n"
          ]
        }
      ],
      "source": [
        "if 'runner_root_stateful' in globals() and runner_root_stateful:\n",
        "\n",
        "    # Định nghĩa hàm async chính để kiểm tra hội thoại có sử dụng state\n",
        "    async def run_stateful_conversation():\n",
        "        print(\"\\n--- Đang kiểm tra state: Đổi đơn vị nhiệt độ & output_key ---\")\n",
        "\n",
        "        # 1. Gọi kiểm tra thời tiết với đơn vị mặc định (Celsius)\n",
        "        print(\"--- Bước 1: Yêu cầu thời tiết ở London (kỳ vọng là Celsius) ---\")\n",
        "        await call_agent_async(query=\"What's the weather in London?\",\n",
        "                               runner=runner_root_stateful,\n",
        "                               user_id=USER_ID_STATEFUL,\n",
        "                               session_id=SESSION_ID_STATEFUL)\n",
        "\n",
        "        # 2. Cập nhật trực tiếp trạng thái: Đổi đơn vị sang Fahrenheit\n",
        "        print(\"\\n--- Cập nhật thủ công state: Chuyển đơn vị sang Fahrenheit ---\")\n",
        "        try:\n",
        "            # Truy cập trực tiếp vào lưu trữ nội bộ - chỉ áp dụng cho InMemorySessionService (dùng để test)\n",
        "            stored_session = session_service_stateful.sessions[APP_NAME][USER_ID_STATEFUL][SESSION_ID_STATEFUL]\n",
        "            stored_session.state[\"user_preference_temperature_unit\"] = \"Fahrenheit\"\n",
        "            print(f\"--- Trạng thái đã cập nhật. Giá trị hiện tại: {stored_session.state.get('user_preference_temperature_unit', 'Không có')} ---\")\n",
        "        except KeyError:\n",
        "            print(f\"--- Lỗi: Không thể lấy phiên làm việc '{SESSION_ID_STATEFUL}' để cập nhật ---\")\n",
        "        except Exception as e:\n",
        "            print(f\"--- Lỗi khi cập nhật session state: {e} ---\")\n",
        "\n",
        "        # 3. Gọi lại kiểm tra thời tiết với state đã cập nhật (kỳ vọng Fahrenheit)\n",
        "        print(\"\\n--- Bước 2: Yêu cầu thời tiết ở New York (kỳ vọng là Fahrenheit) ---\")\n",
        "        await call_agent_async(query=\"Tell me the weather in New York.\",\n",
        "                               runner=runner_root_stateful,\n",
        "                               user_id=USER_ID_STATEFUL,\n",
        "                               session_id=SESSION_ID_STATEFUL)\n",
        "\n",
        "        # 4. Kiểm tra agent con hoạt động song song với state (chào hỏi)\n",
        "        print(\"\\n--- Bước 3: Gửi lời chào ---\")\n",
        "        await call_agent_async(query=\"Hi!\",\n",
        "                               runner=runner_root_stateful,\n",
        "                               user_id=USER_ID_STATEFUL,\n",
        "                               session_id=SESSION_ID_STATEFUL)\n",
        "\n",
        "    # Thực thi hàm async (chỉ dùng được trong môi trường hỗ trợ top-level await như notebook)\n",
        "    print(\"Đang thực thi bằng 'await' (mặc định cho notebook)...\")\n",
        "    await run_stateful_conversation()\n",
        "\n",
        "    # --- Kiểm tra lại trạng thái cuối sau hội thoại ---\n",
        "    print(\"\\n--- Kiểm tra trạng thái phiên làm việc cuối cùng ---\")\n",
        "    final_session = await session_service_stateful.get_session(app_name=APP_NAME,\n",
        "                                                               user_id=USER_ID_STATEFUL,\n",
        "                                                               session_id=SESSION_ID_STATEFUL)\n",
        "    if final_session:\n",
        "        # In từng thành phần trong state\n",
        "        print(f\"Đơn vị nhiệt độ hiện tại: {final_session.state.get('user_preference_temperature_unit', 'Không có')}\")\n",
        "        print(f\"Báo cáo thời tiết cuối (từ output_key): {final_session.state.get('last_weather_report', 'Không có')}\")\n",
        "        print(f\"Thành phố kiểm tra cuối cùng (do công cụ ghi): {final_session.state.get('last_city_checked_stateful', 'Không có')}\")\n",
        "    else:\n",
        "        print(\"\\n❌ Lỗi: Không thể lấy session state cuối cùng.\")\n",
        "\n",
        "else:\n",
        "    print(\"\\n⚠️ Bỏ qua: Runner agent có state ('runner_root_stateful') không tồn tại.\")\n"
      ]
    }
  ],
  "metadata": {
    "colab": {
      "provenance": []
    },
    "kernelspec": {
      "display_name": "Python 3",
      "name": "python3"
    },
    "language_info": {
      "name": "python"
    }
  },
  "nbformat": 4,
  "nbformat_minor": 0
}
